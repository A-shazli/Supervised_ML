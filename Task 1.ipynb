{
 "cells": [
  {
   "cell_type": "markdown",
   "id": "8999325e",
   "metadata": {},
   "source": [
    "# Prediction using Supervised Machine Learning - linear Regression (Scikit learn)"
   ]
  },
  {
   "cell_type": "code",
   "execution_count": null,
   "id": "ea62e946",
   "metadata": {},
   "outputs": [],
   "source": []
  },
  {
   "cell_type": "code",
   "execution_count": 1,
   "id": "5b0eaa40",
   "metadata": {},
   "outputs": [],
   "source": [
    "# first things first we import crucial packages\n",
    "import pandas as pd\n",
    "import numpy as np  \n",
    "from sklearn.model_selection import train_test_split  \n",
    "from sklearn.linear_model import LinearRegression  \n",
    "from sklearn import metrics \n",
    "import seaborn as sns\n",
    "import matplotlib.pyplot as plt  \n",
    "%matplotlib inline"
   ]
  },
  {
   "cell_type": "markdown",
   "id": "4a2312cc",
   "metadata": {},
   "source": [
    "### Data loading and inspection"
   ]
  },
  {
   "cell_type": "code",
   "execution_count": 2,
   "id": "2c5a1501",
   "metadata": {},
   "outputs": [],
   "source": [
    "#Data loading \n",
    "url = \"http://bit.ly/w-data\"\n",
    "df = pd.read_csv(url)"
   ]
  },
  {
   "cell_type": "code",
   "execution_count": 3,
   "id": "448e085a",
   "metadata": {},
   "outputs": [
    {
     "data": {
      "text/html": [
       "<div>\n",
       "<style scoped>\n",
       "    .dataframe tbody tr th:only-of-type {\n",
       "        vertical-align: middle;\n",
       "    }\n",
       "\n",
       "    .dataframe tbody tr th {\n",
       "        vertical-align: top;\n",
       "    }\n",
       "\n",
       "    .dataframe thead th {\n",
       "        text-align: right;\n",
       "    }\n",
       "</style>\n",
       "<table border=\"1\" class=\"dataframe\">\n",
       "  <thead>\n",
       "    <tr style=\"text-align: right;\">\n",
       "      <th></th>\n",
       "      <th>Hours</th>\n",
       "      <th>Scores</th>\n",
       "    </tr>\n",
       "  </thead>\n",
       "  <tbody>\n",
       "    <tr>\n",
       "      <th>0</th>\n",
       "      <td>2.5</td>\n",
       "      <td>21</td>\n",
       "    </tr>\n",
       "    <tr>\n",
       "      <th>1</th>\n",
       "      <td>5.1</td>\n",
       "      <td>47</td>\n",
       "    </tr>\n",
       "    <tr>\n",
       "      <th>2</th>\n",
       "      <td>3.2</td>\n",
       "      <td>27</td>\n",
       "    </tr>\n",
       "    <tr>\n",
       "      <th>3</th>\n",
       "      <td>8.5</td>\n",
       "      <td>75</td>\n",
       "    </tr>\n",
       "    <tr>\n",
       "      <th>4</th>\n",
       "      <td>3.5</td>\n",
       "      <td>30</td>\n",
       "    </tr>\n",
       "    <tr>\n",
       "      <th>5</th>\n",
       "      <td>1.5</td>\n",
       "      <td>20</td>\n",
       "    </tr>\n",
       "    <tr>\n",
       "      <th>6</th>\n",
       "      <td>9.2</td>\n",
       "      <td>88</td>\n",
       "    </tr>\n",
       "    <tr>\n",
       "      <th>7</th>\n",
       "      <td>5.5</td>\n",
       "      <td>60</td>\n",
       "    </tr>\n",
       "    <tr>\n",
       "      <th>8</th>\n",
       "      <td>8.3</td>\n",
       "      <td>81</td>\n",
       "    </tr>\n",
       "    <tr>\n",
       "      <th>9</th>\n",
       "      <td>2.7</td>\n",
       "      <td>25</td>\n",
       "    </tr>\n",
       "    <tr>\n",
       "      <th>10</th>\n",
       "      <td>7.7</td>\n",
       "      <td>85</td>\n",
       "    </tr>\n",
       "    <tr>\n",
       "      <th>11</th>\n",
       "      <td>5.9</td>\n",
       "      <td>62</td>\n",
       "    </tr>\n",
       "    <tr>\n",
       "      <th>12</th>\n",
       "      <td>4.5</td>\n",
       "      <td>41</td>\n",
       "    </tr>\n",
       "    <tr>\n",
       "      <th>13</th>\n",
       "      <td>3.3</td>\n",
       "      <td>42</td>\n",
       "    </tr>\n",
       "    <tr>\n",
       "      <th>14</th>\n",
       "      <td>1.1</td>\n",
       "      <td>17</td>\n",
       "    </tr>\n",
       "    <tr>\n",
       "      <th>15</th>\n",
       "      <td>8.9</td>\n",
       "      <td>95</td>\n",
       "    </tr>\n",
       "    <tr>\n",
       "      <th>16</th>\n",
       "      <td>2.5</td>\n",
       "      <td>30</td>\n",
       "    </tr>\n",
       "    <tr>\n",
       "      <th>17</th>\n",
       "      <td>1.9</td>\n",
       "      <td>24</td>\n",
       "    </tr>\n",
       "    <tr>\n",
       "      <th>18</th>\n",
       "      <td>6.1</td>\n",
       "      <td>67</td>\n",
       "    </tr>\n",
       "    <tr>\n",
       "      <th>19</th>\n",
       "      <td>7.4</td>\n",
       "      <td>69</td>\n",
       "    </tr>\n",
       "    <tr>\n",
       "      <th>20</th>\n",
       "      <td>2.7</td>\n",
       "      <td>30</td>\n",
       "    </tr>\n",
       "    <tr>\n",
       "      <th>21</th>\n",
       "      <td>4.8</td>\n",
       "      <td>54</td>\n",
       "    </tr>\n",
       "    <tr>\n",
       "      <th>22</th>\n",
       "      <td>3.8</td>\n",
       "      <td>35</td>\n",
       "    </tr>\n",
       "    <tr>\n",
       "      <th>23</th>\n",
       "      <td>6.9</td>\n",
       "      <td>76</td>\n",
       "    </tr>\n",
       "    <tr>\n",
       "      <th>24</th>\n",
       "      <td>7.8</td>\n",
       "      <td>86</td>\n",
       "    </tr>\n",
       "  </tbody>\n",
       "</table>\n",
       "</div>"
      ],
      "text/plain": [
       "    Hours  Scores\n",
       "0     2.5      21\n",
       "1     5.1      47\n",
       "2     3.2      27\n",
       "3     8.5      75\n",
       "4     3.5      30\n",
       "5     1.5      20\n",
       "6     9.2      88\n",
       "7     5.5      60\n",
       "8     8.3      81\n",
       "9     2.7      25\n",
       "10    7.7      85\n",
       "11    5.9      62\n",
       "12    4.5      41\n",
       "13    3.3      42\n",
       "14    1.1      17\n",
       "15    8.9      95\n",
       "16    2.5      30\n",
       "17    1.9      24\n",
       "18    6.1      67\n",
       "19    7.4      69\n",
       "20    2.7      30\n",
       "21    4.8      54\n",
       "22    3.8      35\n",
       "23    6.9      76\n",
       "24    7.8      86"
      ]
     },
     "execution_count": 3,
     "metadata": {},
     "output_type": "execute_result"
    }
   ],
   "source": [
    "#data inspecton \n",
    "df # data scales well no need to do feature scalling"
   ]
  },
  {
   "cell_type": "code",
   "execution_count": 4,
   "id": "9a35b682",
   "metadata": {},
   "outputs": [
    {
     "data": {
      "text/plain": [
       "Hours     False\n",
       "Scores    False\n",
       "dtype: bool"
      ]
     },
     "execution_count": 4,
     "metadata": {},
     "output_type": "execute_result"
    }
   ],
   "source": [
    "df.isna().any() # it can be seen that their is no null values hence no need to clean up or drop any rows"
   ]
  },
  {
   "cell_type": "code",
   "execution_count": 5,
   "id": "6f11e587",
   "metadata": {},
   "outputs": [
    {
     "data": {
      "image/png": "[encoded data removed]",
      "text/plain": [
       "<Figure size 432x288 with 1 Axes>"
      ]
     },
     "metadata": {},
     "output_type": "display_data"
    }
   ],
   "source": [
    "#data visualizaton\n",
    "sns.set_style(\"darkgrid\")\n",
    "sns.scatterplot(data=df, x=\"Hours\", y=\"Scores\").set(title='Study Hours VS Percentage');\n"
   ]
  },
  {
   "cell_type": "markdown",
   "id": "bbab9f39",
   "metadata": {},
   "source": [
    "#### The graph shows how the line of best fit should look like (positive correlation)"
   ]
  },
  {
   "cell_type": "markdown",
   "id": "285be38b",
   "metadata": {},
   "source": [
    "### Preparing the features and label"
   ]
  },
  {
   "cell_type": "code",
   "execution_count": 6,
   "id": "fc0645bf",
   "metadata": {},
   "outputs": [],
   "source": [
    "X = df.iloc[:, :-1].values  # taking all columns (only Hours in this case) but the last one as features\n",
    "y = df.iloc[:, 1].values  # last column (Scores) \n"
   ]
  },
  {
   "cell_type": "code",
   "execution_count": 7,
   "id": "ef45c713",
   "metadata": {},
   "outputs": [],
   "source": [
    "# here we split the data into training and test splits\n",
    "X_train, X_test, y_train, y_test = train_test_split(X, y, test_size=0.2) "
   ]
  },
  {
   "cell_type": "markdown",
   "id": "a0eb732d",
   "metadata": {},
   "source": [
    "### Model training"
   ]
  },
  {
   "cell_type": "code",
   "execution_count": 8,
   "id": "86546b86",
   "metadata": {},
   "outputs": [
    {
     "data": {
      "image/png": "[encoded data removed]",
      "text/plain": [
       "<Figure size 432x288 with 1 Axes>"
      ]
     },
     "metadata": {},
     "output_type": "display_data"
    }
   ],
   "source": [
    "# instantiating\n",
    "reg = LinearRegression()  \n",
    "# trainin\n",
    "reg.fit(X_train, y_train) \n",
    "\n",
    "# parameters extraction and plot regressor\n",
    "slope = reg.coef_\n",
    "y_inter = reg.intercept_\n",
    "sns.scatterplot(data=df, x=\"Hours\", y=\"Scores\").set(title='Study Hours VS Percentage');\n",
    "line = slope * X + y_inter\n",
    "plt.plot(X, line);\n",
    "plt.show()"
   ]
  },
  {
   "cell_type": "markdown",
   "id": "930fabfd",
   "metadata": {},
   "source": [
    "#### line of best fit"
   ]
  },
  {
   "cell_type": "code",
   "execution_count": 9,
   "id": "715d085f",
   "metadata": {},
   "outputs": [
    {
     "name": "stdout",
     "output_type": "stream",
     "text": [
      "0.959107243251027\n",
      "0.8962133817450807\n"
     ]
    }
   ],
   "source": [
    "# scare on train data and test data respectivly \n",
    "print(reg.score(X_train, y_train))\n",
    "print(reg.score(X_test, y_test))"
   ]
  },
  {
   "cell_type": "markdown",
   "id": "92707aa6",
   "metadata": {},
   "source": [
    "### Prediciton making"
   ]
  },
  {
   "cell_type": "code",
   "execution_count": 10,
   "id": "b81c738f",
   "metadata": {},
   "outputs": [],
   "source": [
    "# using the test set that was part of the whole data to predict values\n",
    "y_pred = reg.predict(X_test)"
   ]
  },
  {
   "cell_type": "code",
   "execution_count": 11,
   "id": "a5d2f58b",
   "metadata": {},
   "outputs": [
    {
     "name": "stdout",
     "output_type": "stream",
     "text": [
      "Actual values: [47 69 85 30 60]\n",
      "Predicted values: [52.65014502 74.87161463 77.77006719 37.19173137 56.51474843]\n"
     ]
    }
   ],
   "source": [
    "print(\"Actual values:\" , y_test)\n",
    "print(\"Predicted values:\" , y_pred)"
   ]
  },
  {
   "cell_type": "markdown",
   "id": "f80865fb",
   "metadata": {},
   "source": [
    "### Answering the task question\n"
   ]
  },
  {
   "cell_type": "code",
   "execution_count": 12,
   "id": "e1efc3fb",
   "metadata": {},
   "outputs": [
    {
     "name": "stdout",
     "output_type": "stream",
     "text": [
      "A student studying 9.25 hours/day will most likely recive 92.74540540342844\n"
     ]
    }
   ],
   "source": [
    "hours = np.array([[9.25]])\n",
    "pred = reg.predict(hours)\n",
    "print(\"A student studying {} hours/day will most likely recive {}\".format(hours[0][0], pred[0]))\n"
   ]
  },
  {
   "cell_type": "markdown",
   "id": "2e5989fa",
   "metadata": {},
   "source": [
    "### Model metrics "
   ]
  },
  {
   "cell_type": "code",
   "execution_count": 13,
   "id": "24c3c403",
   "metadata": {},
   "outputs": [
    {
     "name": "stdout",
     "output_type": "stream",
     "text": [
      "Mean Absolute Error: 5.885735080590592\n",
      "Max Error: 7.229932813740092\n"
     ]
    }
   ],
   "source": [
    "print('Mean Absolute Error:', \n",
    "      metrics.mean_absolute_error(y_test, y_pred)) \n",
    "print('Max Error:', \n",
    "      metrics.max_error(y_test, y_pred))"
   ]
  },
  {
   "cell_type": "code",
   "execution_count": null,
   "id": "676d3999",
   "metadata": {},
   "outputs": [],
   "source": []
  }
 ],
 "metadata": {
  "kernelspec": {
   "display_name": "Python 3 (ipykernel)",
   "language": "python",
   "name": "python3"
  },
  "language_info": {
   "codemirror_mode": {
    "name": "ipython",
    "version": 3
   },
   "file_extension": ".py",
   "mimetype": "text/x-python",
   "name": "python",
   "nbconvert_exporter": "python",
   "pygments_lexer": "ipython3",
   "version": "3.9.7"
  }
 },
 "nbformat": 4,
 "nbformat_minor": 5
}
